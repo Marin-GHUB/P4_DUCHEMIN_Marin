{
 "cells": [
  {
   "cell_type": "code",
   "execution_count": 2,
   "metadata": {},
   "outputs": [],
   "source": [
    "# Chargement des donnees\n",
    "\n",
    "import pandas as pd\n",
    "\n",
    "train = pd.read_csv(\"Ressources\" + '/' + \"train.csv\")\n",
    "test  = pd.read_csv(\"Ressources\" + '/' + \"test.csv\")\n",
    "\n",
    "X_train = train[train.columns[:-2]]\n",
    "y_train = train['Activity']\n",
    "\n",
    "X_test = test[test.columns[:-2]]\n",
    "y_test = test['Activity']"
   ]
  },
  {
   "cell_type": "code",
   "execution_count": 3,
   "metadata": {},
   "outputs": [
    {
     "name": "stdout",
     "output_type": "stream",
     "text": [
      "(7352, 563)\n"
     ]
    }
   ],
   "source": [
    "# Taille des donnees\n",
    "\n",
    "print(train.shape)"
   ]
  },
  {
   "cell_type": "markdown",
   "metadata": {},
   "source": [
    "Pour enlever les donnees redondantes, on peut intuitivement enlever par exemple les coordonnees polaires et cartesiennes qui doivent etre correlees. On peut ensuite selon le domaine de l'etude enlever les donnees qui ne nous paraissent pas pertinentes.\n",
    "\n",
    "Sinon, on utilise des randoms forests qui vont faire ca pour nous. :D"
   ]
  },
  {
   "cell_type": "code",
   "execution_count": 4,
   "metadata": {},
   "outputs": [],
   "source": [
    "# Modele de classification logique.\n",
    "# On choisit ici 500 arbres.\n",
    "\n",
    "from sklearn.ensemble import RandomForestClassifier\n",
    "\n",
    "rfc = RandomForestClassifier(n_estimators=500, oob_score=True)"
   ]
  },
  {
   "cell_type": "code",
   "execution_count": 5,
   "metadata": {},
   "outputs": [],
   "source": [
    "# Entrainement sur les donnees brutes\n",
    "\n",
    "model = rfc.fit(X_train, y_train)"
   ]
  },
  {
   "cell_type": "code",
   "execution_count": 6,
   "metadata": {},
   "outputs": [
    {
     "name": "stdout",
     "output_type": "stream",
     "text": [
      "accuracy 0.93\n"
     ]
    }
   ],
   "source": [
    "# Etude des performances de ce modele\n",
    "\n",
    "from sklearn.metrics import accuracy_score\n",
    "\n",
    "pred = rfc.predict(X_test)\n",
    "print(\"accuracy {:.2f}\".format(accuracy_score(y_test, pred)))"
   ]
  },
  {
   "cell_type": "markdown",
   "metadata": {},
   "source": [
    "A partir du modele qui vient d'etre fait, on va estimer quelles variables sont importantes grace a \"*model_feature_importances*\" qui note de 0 a 1 l'utilisation plus ou moins intense de la variable dans la decision des arbres et de la foret en general.\n",
    "\n",
    "L'importance des features est liee a la fraction des décisions de l'arbre influencé par celles-ci."
   ]
  },
  {
   "cell_type": "code",
   "execution_count": 7,
   "metadata": {},
   "outputs": [
    {
     "name": "stdout",
     "output_type": "stream",
     "text": [
      "(7352, 84)\n"
     ]
    }
   ],
   "source": [
    "# Selection des variables importantes (seuil d'importance defini par 'threshold')\n",
    "\n",
    "from sklearn.feature_selection import SelectFromModel\n",
    "\n",
    "select = SelectFromModel(rfc, prefit=True, threshold=0.003)\n",
    "X_train2 = select.transform(X_train)\n",
    "\n",
    "print(X_train2.shape)"
   ]
  },
  {
   "cell_type": "code",
   "execution_count": 8,
   "metadata": {},
   "outputs": [
    {
     "name": "stdout",
     "output_type": "stream",
     "text": [
      "accuracy 0.89 time 24.81s\n"
     ]
    }
   ],
   "source": [
    "# On regarde si le modele est toujours aussi performant, si il met beaucoup moins de temps\n",
    "\n",
    "import timeit\n",
    "\n",
    "rfc2 = RandomForestClassifier(n_estimators=500, oob_score=True)\n",
    "\n",
    "start_time = timeit.default_timer()\n",
    "\n",
    "rfc2 = rfc2.fit(X_train2, y_train)\n",
    "\n",
    "X_test2 = select.transform(X_test)\n",
    "\n",
    "pred = rfc2.predict(X_test2)\n",
    "elapsed = timeit.default_timer() - start_time\n",
    "accuracy = accuracy_score(y_test, pred)\n",
    "\n",
    "print(\"accuracy {:.2f} time {:.2f}s\".format(accuracy, elapsed))\n"
   ]
  },
  {
   "cell_type": "markdown",
   "metadata": {},
   "source": [
    "Par rapport au premier modele on perd peu en precisions et on a divise le temps par 3 environ!"
   ]
  },
  {
   "cell_type": "code",
   "execution_count": null,
   "metadata": {},
   "outputs": [],
   "source": []
  }
 ],
 "metadata": {
  "kernelspec": {
   "display_name": "Python 3",
   "language": "python",
   "name": "python3"
  },
  "language_info": {
   "codemirror_mode": {
    "name": "ipython",
    "version": 3
   },
   "file_extension": ".py",
   "mimetype": "text/x-python",
   "name": "python",
   "nbconvert_exporter": "python",
   "pygments_lexer": "ipython3",
   "version": "3.8.3"
  }
 },
 "nbformat": 4,
 "nbformat_minor": 4
}
